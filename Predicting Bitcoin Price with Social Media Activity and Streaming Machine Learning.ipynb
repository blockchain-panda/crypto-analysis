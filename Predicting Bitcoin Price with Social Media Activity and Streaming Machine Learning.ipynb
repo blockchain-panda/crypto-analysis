{
 "cells": [
  {
   "cell_type": "markdown",
   "metadata": {},
   "source": [
    "# Predicting Bitcoin Price with Social Media Activity and Streaming Machine Learning"
   ]
  },
  {
   "cell_type": "markdown",
   "metadata": {},
   "source": [
    "One of the many interesting facts about cryptocurrencies is how much social media activity dominates the discourse and the price. In this article we are going to use the [Lunar Crush](https://lunarcrush.com/dashboard) API to get social media activity data along with market data for bitcoin. Then using this combination we will use online machine learning to build a model that can predict tomorrows bitcoin price!"
   ]
  },
  {
   "cell_type": "markdown",
   "metadata": {},
   "source": [
    "First we have to setup our environment. The libaries are all common python libraries, except for [River Machine Learning](https://riverml.xyz/latest/). River allows us to train a model on a stream of data incrementally, so it is constantly learning as new data is available. In theory streaming (or online) machine learning can be much more effective than standard batch machine learning, especially when dealing with data that may exhibit drift. A streaming approach should be able to adapt better than a batch based method. Given the dynmic and turbulent nature of crypto currencies this should be ideal for streaming ML."
   ]
  },
  {
   "cell_type": "code",
   "execution_count": 1,
   "metadata": {},
   "outputs": [],
   "source": [
    "import json\n",
    "import random\n",
    "import requests\n",
    "\n",
    "import pandas as pd\n",
    "import matplotlib.pyplot as plt\n",
    "\n",
    "from river import compose, linear_model, preprocessing, feature_selection, stats"
   ]
  },
  {
   "cell_type": "markdown",
   "metadata": {},
   "source": [
    "### Download The Data\n",
    "\n",
    "In order to get data from Lunar Crush you have to sign up for an account (it's free), but then you can generate an API key allowing you to connect to the REST endpoint. Now to query the REST endpoint all you have to do is generate the URL for your query and specify the fields required. Full details can be found on the API documentation page [here](https://lunarcrush.com/developers/docs). In this case we are looking for the last 200 days worth of data for Bitcoin and looking for data with an interval of a day."
   ]
  },
  {
   "cell_type": "code",
   "execution_count": 2,
   "metadata": {},
   "outputs": [],
   "source": [
    "api_key = \"<api-token-here>\"\n",
    "query_url = f\"https://api.lunarcrush.com/v2?data=assets&key={api_key}&symbol=BTC&data_points=200&interval=day\"\n",
    "with requests.get(query_url) as r:\n",
    "    if r.ok:\n",
    "        data = json.loads(r.content)"
   ]
  },
  {
   "cell_type": "markdown",
   "metadata": {},
   "source": [
    "### Get the Data Ready for Machine Learning\n",
    "\n",
    "The data is returned as a json object with a range of fields. In this case we are only interested in the `timeSeries` field within the `data` field. This is a python list of dictionaries, these can easily be converted into a pandas dataframe. The time can easily be converted to python datetime type, as it is seconds since epoch.\n",
    "\n",
    "There are over 50 columns returned from Lunar Crush, which is quite a few and could easily cause issues if they are all passed into any ML model. To remove a few columns to start with lets remove any columns containing `NaNs` and any columns with low cardinality.\n",
    "\n",
    "Importantly we need to add a target variable to learn from. In this case we are going to use the closing price for the next day. This can easily be done using the pandas `shift` function, consequently we do need to remove the last row as this includes a target of `Nan`."
   ]
  },
  {
   "cell_type": "code",
   "execution_count": 3,
   "metadata": {},
   "outputs": [],
   "source": [
    "df = pd.DataFrame.from_records(data['data'][0]['timeSeries'])\n",
    "df['time'] = pd.to_datetime(df['time'], unit='s')"
   ]
  },
  {
   "cell_type": "code",
   "execution_count": 4,
   "metadata": {},
   "outputs": [],
   "source": [
    "cols_to_keep = [col for col in df.columns if df[col].isna().sum()/len(df) == 0 and df[col].nunique() > int(len(df)*0.1)]\n",
    "df = df[cols_to_keep] "
   ]
  },
  {
   "cell_type": "code",
   "execution_count": 5,
   "metadata": {},
   "outputs": [],
   "source": [
    "df['target'] = df['close'].shift(-1) - df['close']\n",
    "df = df.dropna()"
   ]
  },
  {
   "cell_type": "code",
   "execution_count": 6,
   "metadata": {},
   "outputs": [
    {
     "data": {
      "text/html": [
       "<div>\n",
       "<style scoped>\n",
       "    .dataframe tbody tr th:only-of-type {\n",
       "        vertical-align: middle;\n",
       "    }\n",
       "\n",
       "    .dataframe tbody tr th {\n",
       "        vertical-align: top;\n",
       "    }\n",
       "\n",
       "    .dataframe thead th {\n",
       "        text-align: right;\n",
       "    }\n",
       "</style>\n",
       "<table border=\"1\" class=\"dataframe\">\n",
       "  <thead>\n",
       "    <tr style=\"text-align: right;\">\n",
       "      <th></th>\n",
       "      <th>time</th>\n",
       "      <th>open</th>\n",
       "      <th>close</th>\n",
       "      <th>volume</th>\n",
       "      <th>reddit_posts</th>\n",
       "      <th>tweets</th>\n",
       "      <th>social_contributors</th>\n",
       "      <th>social_volume</th>\n",
       "      <th>target</th>\n",
       "    </tr>\n",
       "  </thead>\n",
       "  <tbody>\n",
       "    <tr>\n",
       "      <th>194</th>\n",
       "      <td>2021-05-05</td>\n",
       "      <td>54484.401899</td>\n",
       "      <td>57510.899418</td>\n",
       "      <td>87836031241</td>\n",
       "      <td>2026</td>\n",
       "      <td>261638</td>\n",
       "      <td>173104</td>\n",
       "      <td>291791</td>\n",
       "      <td>-1043.223284</td>\n",
       "    </tr>\n",
       "    <tr>\n",
       "      <th>195</th>\n",
       "      <td>2021-05-06</td>\n",
       "      <td>57365.355791</td>\n",
       "      <td>56467.676133</td>\n",
       "      <td>81668273343</td>\n",
       "      <td>2019</td>\n",
       "      <td>230341</td>\n",
       "      <td>189607</td>\n",
       "      <td>256108</td>\n",
       "      <td>888.759244</td>\n",
       "    </tr>\n",
       "    <tr>\n",
       "      <th>196</th>\n",
       "      <td>2021-05-07</td>\n",
       "      <td>56423.026492</td>\n",
       "      <td>57356.435377</td>\n",
       "      <td>81688463407</td>\n",
       "      <td>2144</td>\n",
       "      <td>259285</td>\n",
       "      <td>178775</td>\n",
       "      <td>289636</td>\n",
       "      <td>1684.688564</td>\n",
       "    </tr>\n",
       "    <tr>\n",
       "      <th>197</th>\n",
       "      <td>2021-05-08</td>\n",
       "      <td>59847.384135</td>\n",
       "      <td>59041.123941</td>\n",
       "      <td>80774105610</td>\n",
       "      <td>2071</td>\n",
       "      <td>221721</td>\n",
       "      <td>187309</td>\n",
       "      <td>250042</td>\n",
       "      <td>-725.715139</td>\n",
       "    </tr>\n",
       "    <tr>\n",
       "      <th>198</th>\n",
       "      <td>2021-05-09</td>\n",
       "      <td>59055.293226</td>\n",
       "      <td>58315.408802</td>\n",
       "      <td>80874583929</td>\n",
       "      <td>2407</td>\n",
       "      <td>213873</td>\n",
       "      <td>153760</td>\n",
       "      <td>238963</td>\n",
       "      <td>-1451.043310</td>\n",
       "    </tr>\n",
       "  </tbody>\n",
       "</table>\n",
       "</div>"
      ],
      "text/plain": [
       "          time          open         close       volume  reddit_posts  tweets  \\\n",
       "194 2021-05-05  54484.401899  57510.899418  87836031241          2026  261638   \n",
       "195 2021-05-06  57365.355791  56467.676133  81668273343          2019  230341   \n",
       "196 2021-05-07  56423.026492  57356.435377  81688463407          2144  259285   \n",
       "197 2021-05-08  59847.384135  59041.123941  80774105610          2071  221721   \n",
       "198 2021-05-09  59055.293226  58315.408802  80874583929          2407  213873   \n",
       "\n",
       "     social_contributors  social_volume       target  \n",
       "194               173104         291791 -1043.223284  \n",
       "195               189607         256108   888.759244  \n",
       "196               178775         289636  1684.688564  \n",
       "197               187309         250042  -725.715139  \n",
       "198               153760         238963 -1451.043310  "
      ]
     },
     "execution_count": 6,
     "metadata": {},
     "output_type": "execute_result"
    }
   ],
   "source": [
    "df[['time', 'open', 'close', 'volume', 'reddit_posts', 'tweets', 'social_contributors', 'social_volume', 'target']].tail()"
   ]
  },
  {
   "cell_type": "markdown",
   "metadata": {},
   "source": [
    "### A Quick Simple Model\n",
    "\n",
    "Before we get carried away with machine learning lets get an idea for a simple streaming model. The simpliest model I can think of is simply to predict tomorrows change as the change observed today. Quick note `1` represents the price going up and `-1` the price going down. We can start with a random direction."
   ]
  },
  {
   "cell_type": "code",
   "execution_count": 7,
   "metadata": {},
   "outputs": [],
   "source": [
    "yesterdays_direction = random.choice([1, -1])\n",
    "\n",
    "all_results = []\n",
    "for i, row in df.iterrows():\n",
    "    todays_observed_change = row['close'] - row['open']\n",
    "    todays_result = todays_observed_change * yesterdays_direction\n",
    "    all_results.append({'Date': row['time'], 'Profit': todays_result})\n",
    "    yesterdays_direction = 1 if todays_observed_change >=0 else -1    "
   ]
  },
  {
   "cell_type": "code",
   "execution_count": 8,
   "metadata": {},
   "outputs": [
    {
     "data": {
      "image/png": "[encoded data removed]",
      "text/plain": [
       "<Figure size 576x288 with 1 Axes>"
      ]
     },
     "metadata": {
      "needs_background": "light"
     },
     "output_type": "display_data"
    }
   ],
   "source": [
    "df_simple = pd.DataFrame.from_records(all_results)\n",
    "fig, ax = plt.subplots(figsize=(8,4))\n",
    "df_simple.set_index(df_simple['Date']).drop(columns='Date').cumsum().plot(ax=ax)\n",
    "ax.set_ylabel('Cumlative Profit / $');"
   ]
  },
  {
   "cell_type": "code",
   "execution_count": 9,
   "metadata": {
    "scrolled": true
   },
   "outputs": [
    {
     "name": "stdout",
     "output_type": "stream",
     "text": [
      "Win rate: 53.77%\n"
     ]
    }
   ],
   "source": [
    "simple_wins = dict(df_simple['Profit'].apply(lambda x: 1 if x >=0 else -1).value_counts())\n",
    "print(f\"Win rate: {100*simple_wins[1]/(sum(simple_wins.values())):.2f}%\")"
   ]
  },
  {
   "cell_type": "markdown",
   "metadata": {},
   "source": [
    "From this even a very simple model does show some possibilty of predicting the future! But can we do better with streaming machine learning?"
   ]
  },
  {
   "cell_type": "markdown",
   "metadata": {},
   "source": [
    "### Streaming Machine Learning\n",
    "\n",
    "In order to create a model using river we can create a `Pipeline` to link together multiple operations. Initially we will scale the features using the `StandardScaler` to ensure all features have zero mean and unit variance. One problem mentioned earlier are the large number of features, in order to reduce this we can use `SelectKBest` to down select to a much smaller number of features. Then finally a simple `LinearRegression` model to do the actual prediction."
   ]
  },
  {
   "cell_type": "code",
   "execution_count": 10,
   "metadata": {},
   "outputs": [],
   "source": [
    "model = compose.Pipeline(\n",
    "    preprocessing.StandardScaler(),\n",
    "    feature_selection.SelectKBest(similarity=stats.PearsonCorr(), k=10),\n",
    "    linear_model.LinearRegression())"
   ]
  },
  {
   "cell_type": "markdown",
   "metadata": {},
   "source": [
    "In order to run the model we can iterate through the dataframe in time order using the current days inputs to predict tomorrows closing price. Then we can use the actual result to train the model. "
   ]
  },
  {
   "cell_type": "code",
   "execution_count": 11,
   "metadata": {},
   "outputs": [],
   "source": [
    "feature_cols = [col for col in df.columns if col not in [\"time\", 'target']]\n",
    "results = []\n",
    "for i, row in df.iterrows():\n",
    "    X = dict(row[feature_cols])\n",
    "    y = row['target']\n",
    "    \n",
    "    y_pred = model.predict_one(X)\n",
    "    model = model.learn_one(X, y)\n",
    "    \n",
    "    predicted_direction = 1 if y_pred >=0 else -1 \n",
    "    daily_profit = predicted_direction * y\n",
    "    \n",
    "    results.append({'Date': row['time'], 'Profit':daily_profit})"
   ]
  },
  {
   "cell_type": "code",
   "execution_count": 12,
   "metadata": {},
   "outputs": [
    {
     "data": {
      "image/png": "[encoded data removed]",
      "text/plain": [
       "<Figure size 576x288 with 1 Axes>"
      ]
     },
     "metadata": {
      "needs_background": "light"
     },
     "output_type": "display_data"
    }
   ],
   "source": [
    "df_online = pd.DataFrame.from_records(results)\n",
    "fig, ax = plt.subplots(figsize=(8,4))\n",
    "df_online.set_index(df_online['Date']).drop(columns='Date').cumsum().plot(ax=ax);\n",
    "ax.set_ylabel('Cumlative Profit / $');"
   ]
  },
  {
   "cell_type": "code",
   "execution_count": 13,
   "metadata": {},
   "outputs": [
    {
     "name": "stdout",
     "output_type": "stream",
     "text": [
      "Win rate: 64.32%\n"
     ]
    }
   ],
   "source": [
    "simple_wins = dict(df_online['Profit'].apply(lambda x: 1 if x >=0 else -1).value_counts())\n",
    "print(f\"Win rate: {100*simple_wins[1]/(sum(simple_wins.values())):.2f}%\")"
   ]
  },
  {
   "cell_type": "markdown",
   "metadata": {},
   "source": [
    "A correct prediction rate of around 64 % is not too bad and is a clear improvement over a very simple model. The cumlative profit plot shows an approximately linear beavhiour, which suggests this model has performed well throughout, where as the simple model clearly had its ups and downs. There should be plenty of room for improvement, especially as there has been no \n",
    "tuning of any model parameters. \n",
    "\n",
    "Overall hopefully this highlihts powerful streaming machine learning can be and especially how it can handle volatile data!"
   ]
  }
 ],
 "metadata": {
  "kernelspec": {
   "display_name": "Python [conda env:crypto]",
   "language": "python",
   "name": "conda-env-crypto-py"
  },
  "language_info": {
   "codemirror_mode": {
    "name": "ipython",
    "version": 3
   },
   "file_extension": ".py",
   "mimetype": "text/x-python",
   "name": "python",
   "nbconvert_exporter": "python",
   "pygments_lexer": "ipython3",
   "version": "3.9.4"
  }
 },
 "nbformat": 4,
 "nbformat_minor": 4
}
